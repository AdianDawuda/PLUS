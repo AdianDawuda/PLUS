{
 "cells": [
  {
   "cell_type": "markdown",
   "metadata": {},
   "source": [
    "# Support Vector Machine and Random Trees (Random Forest) Classification\n",
    "\n",
    "This notebook is to be used with the ArcGIS Pro Python API to classify SENTINEL-2 images into self defined land cover classes using SVM and RF classifiers.\n",
    "\n",
    "Author: Adian Dawuda | adian.dawuda@stud.plus.ac.at"
   ]
  },
  {
   "cell_type": "code",
   "execution_count": 2,
   "metadata": {},
   "outputs": [],
   "source": [
    "# Import system modules\n",
    "import arcpy\n",
    "from arcpy.ia import *"
   ]
  },
  {
   "cell_type": "code",
   "execution_count": 5,
   "metadata": {},
   "outputs": [
    {
     "data": {
      "text/html": [
       "<div class='gpresult'><h2>Messages</h2><div id='messages' data-messages='[\"Start Time: Monday, July 17, 2023 12:31:55 PM\",\"Building Pyramids...\",\"Succeeded at Monday, July 17, 2023 12:32:00 PM (Elapsed Time: 5.13 seconds)\"]' data-show='true'><div id = 'default' /></div></div>"
      ],
      "text/plain": [
       "<Result 'C:\\\\Users\\\\Adian\\\\Documents\\\\ArcGIS\\\\Projects\\\\AnalysisAndModelingFinalVisualInt\\\\AnalysisAndModelingFinalVisualInt.gdb\\\\SanMarinoS2_all_bands'>"
      ]
     },
     "execution_count": 5,
     "metadata": {},
     "output_type": "execute_result"
    }
   ],
   "source": [
    "# Clip Sentinel 2 raster to San Marino Boundaries\n",
    "arcpy.management.Clip(\n",
    "    \"SanMarinoS2_full.tif\", \n",
    "    \"-20037507.0671618 -30240971.9583861 20037507.0671618 18460513.2470149\", \n",
    "    r\"C:\\Users\\Adian\\Documents\\ArcGIS\\Projects\\AnalysisAndModelingFinalVisualInt\\AnalysisAndModelingFinalVisualInt.gdb\\SanMarinoS2_all_bands\", \n",
    "    \"World_Countries\", \n",
    "    \"1.79e+308\", \n",
    "    \"ClippingGeometry\", \n",
    "    \"NO_MAINTAIN_EXTENT\"\n",
    ")"
   ]
  },
  {
   "cell_type": "code",
   "execution_count": 6,
   "metadata": {},
   "outputs": [
    {
     "data": {
      "text/html": [
       "<div class='gpresult'><h2>Messages</h2><div id='messages' data-messages='[\"Start Time: Monday, July 17, 2023 12:32:54 PM\",\"Succeeded at Monday, July 17, 2023 12:32:54 PM (Elapsed Time: 0.02 seconds)\"]' data-show='true'><div id = 'default' /></div></div>"
      ],
      "text/plain": [
       "<Result 'SanMarinoS2'>"
      ]
     },
     "execution_count": 6,
     "metadata": {},
     "output_type": "execute_result"
    }
   ],
   "source": [
    "# Create a copy of the image with bands 2, 3, 4, and 8\n",
    "arcpy.management.MakeRasterLayer(\n",
    "    \"SanMarinoS2_all_bands\", \n",
    "    \"SanMarinoS2\", \n",
    "    '', \n",
    "    '1378670 5448230 1394740 5465090 PROJCS[\"WGS_1984_Web_Mercator_Auxiliary_Sphere\",GEOGCS[\"GCS_WGS_1984\",DATUM[\"D_WGS_1984\",SPHEROID[\"WGS_1984\",6378137.0,298.257223563]],PRIMEM[\"Greenwich\",0.0],UNIT[\"Degree\",0.0174532925199433]],PROJECTION[\"Mercator_Auxiliary_Sphere\"],PARAMETER[\"False_Easting\",0.0],PARAMETER[\"False_Northing\",0.0],PARAMETER[\"Central_Meridian\",0.0],PARAMETER[\"Standard_Parallel_1\",0.0],PARAMETER[\"Auxiliary_Sphere_Type\",0.0],UNIT[\"Meter\",1.0]]', \n",
    "    \"2;3;4;8\"\n",
    ")"
   ]
  },
  {
   "cell_type": "markdown",
   "metadata": {},
   "source": [
    "# SVM"
   ]
  },
  {
   "cell_type": "code",
   "execution_count": 7,
   "metadata": {
    "scrolled": true
   },
   "outputs": [
    {
     "data": {
      "text/html": [
       "<div class='gpresult'><h2>Messages</h2><div id='messages' data-messages='[\"Start Time: Monday, July 17, 2023 12:35:02 PM\",\"cross validation rate = 0.9920 \",\"Succeeded at Monday, July 17, 2023 12:35:08 PM (Elapsed Time: 5.97 seconds)\"]' data-show='true'><div id = 'default' /></div></div>"
      ],
      "text/plain": [
       "<geoprocessing server result object object at 0x00000255334C1B10>"
      ]
     },
     "execution_count": 7,
     "metadata": {},
     "output_type": "execute_result"
    }
   ],
   "source": [
    "# Train SVM and Generate an Esri classifier definition file (.ecd)\n",
    "arcpy.ia.TrainSupportVectorMachineClassifier(\n",
    "    \"SanMarinoS2.tif\", \n",
    "    r\"C:\\Users\\Adian\\Documents\\ArcGIS\\Projects\\AnalysisAndModelingFinalVisualInt\\samples.shp\", \n",
    "    r\"C:\\Users\\Adian\\Documents\\ArcGIS\\Projects\\AnalysisAndModelingFinalVisualInt\\SanMarinoTrainedSVM.ecd\", \n",
    "    '', \n",
    "    500, \n",
    "    \"COLOR;MEAN;STD;COUNT;COMPACTNESS;RECTANGULARITY\", \n",
    "    None\n",
    ")"
   ]
  },
  {
   "cell_type": "code",
   "execution_count": 8,
   "metadata": {},
   "outputs": [
    {
     "ename": "RuntimeError",
     "evalue": "Ungültiger Zeiger ",
     "output_type": "error",
     "traceback": [
      "\u001b[0;31m---------------------------------------------------------------------------\u001b[0m\n\u001b[0;31mRuntimeError\u001b[0m                              Traceback (most recent call last)",
      "In  \u001b[0;34m[8]\u001b[0m:\nLine \u001b[0;34m7\u001b[0m:     out_raster_dataset.save(\n",
      "\u001b[0;31mRuntimeError\u001b[0m: Ungültiger Zeiger \n\u001b[0;31m---------------------------------------------------------------------------\u001b[0m"
     ]
    }
   ],
   "source": [
    "# Classify the Sentinel image using the Esri classifier definition file (.ecd)\n",
    "out_raster_dataset = arcpy.ia.ClassifyRaster(\n",
    "    \"SanMarinoS2.tif\",\n",
    "    r\"C:\\Users\\Adian\\Documents\\ArcGIS\\Projects\\AnalysisAndModelingFinalVisualInt\\SanMarinoTrainedSVM.ecd\",\n",
    "    ''\n",
    ");\n",
    "out_raster_dataset.save(\n",
    "    r\"C:\\Users\\Adian\\Documents\\ArcGIS\\Projects\\AnalysisAndModelingFinalVisualInt\\LandCoverSanMarinoSVM.crf\"\n",
    ")"
   ]
  },
  {
   "cell_type": "markdown",
   "metadata": {},
   "source": [
    "# RF"
   ]
  },
  {
   "cell_type": "code",
   "execution_count": 9,
   "metadata": {},
   "outputs": [
    {
     "data": {
      "text/html": [
       "<div class='gpresult'><h2>Messages</h2><div id='messages' data-messages='[\"Start Time: Monday, July 17, 2023 12:39:40 PM\",\"train accuracy = 0.9973 \",\"variable importance = 0.1669 0.0775 0.0353 0.1048 0.0531 0.0168 0.0243 0.0209 0.0305 0.0323 0.0356 0.0785 0.0174 0.0181 0.0213 0.0751 0.0226 0.1085 0.0121 0.0121 0.0121 0.0121 0.0121 \",\"Succeeded at Monday, July 17, 2023 12:39:43 PM (Elapsed Time: 2.17 seconds)\"]' data-show='true'><div id = 'default' /></div></div>"
      ],
      "text/plain": [
       "<geoprocessing server result object object at 0x0000025526D1FED0>"
      ]
     },
     "execution_count": 9,
     "metadata": {},
     "output_type": "execute_result"
    }
   ],
   "source": [
    "# Train RF and Classify raster\n",
    "arcpy.stats.Forest(\n",
    "    \"PREDICT_RASTER\",\n",
    "    \"samples\", \n",
    "    \"Classcode\", \n",
    "    \"CATEGORICAL\",\n",
    "    None, \n",
    "    None,\n",
    "    r\"C:\\Users\\Adian\\Documents\\ArcGIS\\Projects\\AnalysisAndModelingFinal\\AnalysisAndModelingFinal.gdb\\SanMarinoS2 #\", \n",
    "    None, \n",
    "    None, \n",
    "    r\"C:\\Users\\Adian\\Documents\\ArcGIS\\Projects\\AnalysisAndModelingFinalVisualInt\\rf10.crf\", \n",
    "    None, \n",
    "    None, \n",
    "    r\"C:\\Users\\Adian\\Documents\\ArcGIS\\Projects\\AnalysisAndModelingFinal\\AnalysisAndModelingFinal.gdb\\SanMarinoS2 C:\\Users\\Adian\\Documents\\ArcGIS\\Projects\\AnalysisAndModelingFinal\\AnalysisAndModelingFinal.gdb\\SanMarinoS2\", \n",
    "    r\"C:\\Users\\Adian\\Documents\\ArcGIS\\Projects\\AnalysisAndModelingFinalVisualInt\\TrainedFeatures10.shp\", \n",
    "    r\"C:\\Users\\Adian\\Documents\\ArcGIS\\Projects\\AnalysisAndModelingFinalVisualInt\\VariableImportance10.dbf\", \n",
    "    \"TRUE\", \n",
    "    100,\n",
    "    None,\n",
    "    None,\n",
    "    100, \n",
    "    None, \n",
    "    10, \n",
    "    r\"C:\\Users\\Adian\\Documents\\ArcGIS\\Projects\\AnalysisAndModelingFinalVisualInt\\classificationPerformanceTable10.dbf\", \n",
    "    None, \n",
    "    \"TRUE\",\n",
    "    1,\n",
    "    \"FALSE\"\n",
    ")"
   ]
  },
  {
   "cell_type": "markdown",
   "metadata": {},
   "source": [
    "## Accuracy Assessment"
   ]
  },
  {
   "cell_type": "markdown",
   "metadata": {},
   "source": [
    "### SVM"
   ]
  },
  {
   "cell_type": "code",
   "execution_count": 8,
   "metadata": {},
   "outputs": [
    {
     "data": {
      "text/html": [
       "<div class='gpresult'><h2>Messages</h2><div id='messages' data-messages='[\"Start Time: Wednesday, July 12, 2023 6:20:04 PM\",\"Succeeded at Wednesday, July 12, 2023 6:20:04 PM (Elapsed Time: 0.06 seconds)\"]' data-show='true'><div id = 'default' /></div></div>"
      ],
      "text/plain": [
       "<geoprocessing server result object object at 0x0000015B4D055CF0>"
      ]
     },
     "execution_count": 8,
     "metadata": {},
     "output_type": "execute_result"
    }
   ],
   "source": [
    "# Create points for SVM\n",
    "arcpy.ia.CreateAccuracyAssessmentPoints(\n",
    "    \"LandCoverSanMarinoSVM\", \n",
    "    r\"C:\\Users\\Adian\\Documents\\ArcGIS\\Projects\\AnalysisAndModelingFinalVisualInt\\AccuracyAssessmentPointsSVM.shp\", \n",
    "    \"CLASSIFIED\", \n",
    "    50, \n",
    "    \"STRATIFIED_RANDOM\",\n",
    "    None\n",
    ")"
   ]
  },
  {
   "cell_type": "markdown",
   "metadata": {},
   "source": [
    "Visual interpretation is now necessary to fill in the 'Ground Truth' field"
   ]
  },
  {
   "cell_type": "code",
   "execution_count": 11,
   "metadata": {},
   "outputs": [
    {
     "data": {
      "text/html": [
       "<div class='gpresult'><h2>Messages</h2><div id='messages' data-messages='[\"Start Time: Monday, July 17, 2023 12:48:12 PM\",\"IoU = {[C_10]: 0.5000, [C_20]: 0.8158, [C_30]: 0.9000}\",\"Succeeded at Monday, July 17, 2023 12:48:12 PM (Elapsed Time: 0.19 seconds)\"]' data-show='true'><div id = 'default' /></div></div>"
      ],
      "text/plain": [
       "<geoprocessing server result object object at 0x00000254E7DF2780>"
      ]
     },
     "execution_count": 11,
     "metadata": {},
     "output_type": "execute_result"
    }
   ],
   "source": [
    "# Calculate confusion matrix\n",
    "arcpy.ia.ComputeConfusionMatrix(\n",
    "    \"AccuracyAssessmentPointsSVM\", \n",
    "    r\"C:\\Users\\Adian\\Documents\\ArcGIS\\Projects\\AnalysisAndModelingFinalVisualInt\\AnalysisAndModelingFinalVisualInt.gdb\\AccuracySVM\"\n",
    ")"
   ]
  },
  {
   "cell_type": "markdown",
   "metadata": {},
   "source": [
    "### RF"
   ]
  },
  {
   "cell_type": "code",
   "execution_count": 12,
   "metadata": {},
   "outputs": [
    {
     "data": {
      "text/html": [
       "<div class='gpresult'><h2>Messages</h2><div id='messages' data-messages='[\"Start Time: Wednesday, July 12, 2023 6:40:44 PM\",\"Succeeded at Wednesday, July 12, 2023 6:40:44 PM (Elapsed Time: 0.07 seconds)\"]' data-show='true'><div id = 'default' /></div></div>"
      ],
      "text/plain": [
       "<geoprocessing server result object object at 0x0000015B4D0557E0>"
      ]
     },
     "execution_count": 12,
     "metadata": {},
     "output_type": "execute_result"
    }
   ],
   "source": [
    "# Create points for RF\n",
    "# 8 or 16 bpp raster must be used as input\n",
    "arcpy.ia.CreateAccuracyAssessmentPoints(\n",
    "    \"rf10_16bit.crf\", \n",
    "    r\"C:\\Users\\Adian\\Documents\\ArcGIS\\Projects\\AnalysisAndModelingFinalVisualInt\\AccuracyAssessmentPointsRF_10.shp\", \n",
    "    \"CLASSIFIED\", \n",
    "    50, \n",
    "    \"STRATIFIED_RANDOM\",\n",
    "    None\n",
    ")"
   ]
  },
  {
   "cell_type": "code",
   "execution_count": 1,
   "metadata": {},
   "outputs": [
    {
     "name": "stdout",
     "output_type": "stream",
     "text": [
      "Attribute values updated successfully.\n"
     ]
    }
   ],
   "source": [
    "# Update ground truth identifiers with class values\n",
    "\n",
    "# Path to the workspace and the feature class\n",
    "workspace = r\"C:\\Users\\Adian\\Documents\\ArcGIS\\Projects\\AnalysisAndModelingFinalVisualInt\"\n",
    "\n",
    "feature_class = \"AccuracyAssessmentPointsRF_10\"\n",
    "\n",
    "# Field name to be updated\n",
    "field_name = \"Classified\"\n",
    "\n",
    "\n",
    "# Map values to match simple land cover\n",
    "value_mapping = {\n",
    "    0: 10,\n",
    "    1: 20,\n",
    "    2: 30\n",
    "}\n",
    "\n",
    "try:\n",
    "    arcpy.env.workspace = workspace\n",
    "\n",
    "    # Start an edit session\n",
    "    edit = arcpy.da.Editor(workspace)\n",
    "    edit.startEditing(False, True)\n",
    "    edit.startOperation()\n",
    "\n",
    "    # Update the attribute values\n",
    "    with arcpy.da.UpdateCursor(feature_class, field_name) as cursor:\n",
    "        for row in cursor:\n",
    "            old_value = row[0]\n",
    "            if old_value in value_mapping:\n",
    "                new_value = value_mapping[old_value]\n",
    "                row[0] = new_value\n",
    "                cursor.updateRow(row)\n",
    "\n",
    "    # Stop the edit session and save changes\n",
    "    edit.stopOperation()\n",
    "    edit.stopEditing(True)\n",
    "\n",
    "    print(\"Attribute values updated\")\n",
    "\n",
    "except Exception as e:\n",
    "    print(\"Error updating attribute values: \" + str(e))"
   ]
  },
  {
   "cell_type": "markdown",
   "metadata": {},
   "source": [
    "Visual interpretation is now necessary to fill in the 'Ground Truth' field"
   ]
  },
  {
   "cell_type": "code",
   "execution_count": 2,
   "metadata": {},
   "outputs": [
    {
     "data": {
      "text/html": [
       "<div class='gpresult'><h2>Messages</h2><div id='messages' data-messages='[\"Start Time: Friday, July 28, 2023 1:34:04 AM\",\"IoU = {[C_10]: 0.4286, [C_20]: 0.6250, [C_30]: 0.4000}\",\"Succeeded at Friday, July 28, 2023 1:34:04 AM (Elapsed Time: 0.23 seconds)\"]' data-show='true'><div id = 'default' /></div></div>"
      ],
      "text/plain": [
       "<geoprocessing server result object object at 0x000001BB70EB0840>"
      ]
     },
     "execution_count": 2,
     "metadata": {},
     "output_type": "execute_result"
    }
   ],
   "source": [
    "# Calculate confusion matrix\n",
    "arcpy.ia.ComputeConfusionMatrix(\n",
    "    \"AccuracyAssessmentPointsRF_10\", \n",
    "    r\"C:\\Users\\Adian\\Documents\\ArcGIS\\Projects\\AnalysisAndModelingFinalVisualInt\\AnalysisAndModelingFinalVisualInt.gdb\\AccuracyRF\"\n",
    ")"
   ]
  },
  {
   "cell_type": "markdown",
   "metadata": {},
   "source": [
    "# 60m resolution analysis\n"
   ]
  },
  {
   "cell_type": "code",
   "execution_count": 14,
   "metadata": {},
   "outputs": [
    {
     "data": {
      "text/html": [
       "<div class='gpresult'><h2>Messages</h2><div id='messages' data-messages='[\"Start Time: Monday, July 17, 2023 1:16:05 PM\",\"Building Pyramids...\",\"Succeeded at Monday, July 17, 2023 1:16:06 PM (Elapsed Time: 1.45 seconds)\"]' data-show='true'><div id = 'default' /></div></div>"
      ],
      "text/plain": [
       "<Result 'C:\\\\Users\\\\Adian\\\\Documents\\\\ArcGIS\\\\Projects\\\\AnalysisAndModelingFinalVisualInt\\\\AnalysisAndModelingFinalVisualInt.gdb\\\\SanMarinoS2_60m'>"
      ]
     },
     "execution_count": 14,
     "metadata": {},
     "output_type": "execute_result"
    }
   ],
   "source": [
    "# Resample image\n",
    "arcpy.management.Resample(\n",
    "    \"SanMarinoS2_all_bands\", \n",
    "    r\"C:\\Users\\Adian\\Documents\\ArcGIS\\Projects\\AnalysisAndModelingFinalVisualInt\\AnalysisAndModelingFinalVisualInt.gdb\\SanMarinoS2_60m\", \n",
    "    \"60 60\", \n",
    "    \"NEAREST\"\n",
    ")"
   ]
  },
  {
   "cell_type": "markdown",
   "metadata": {},
   "source": [
    "## SVM"
   ]
  },
  {
   "cell_type": "code",
   "execution_count": 15,
   "metadata": {},
   "outputs": [
    {
     "data": {
      "text/html": [
       "<div class='gpresult'><h2>Messages</h2><div id='messages' data-messages='[\"Start Time: Monday, July 17, 2023 1:17:19 PM\",\"cross validation rate = 0.9793 \",\"Succeeded at Monday, July 17, 2023 1:17:24 PM (Elapsed Time: 4.40 seconds)\"]' data-show='true'><div id = 'default' /></div></div>"
      ],
      "text/plain": [
       "<geoprocessing server result object object at 0x000002553377B7B0>"
      ]
     },
     "execution_count": 15,
     "metadata": {},
     "output_type": "execute_result"
    }
   ],
   "source": [
    "# Train SVM and Generate an Esri classifier definition file (.ecd)\n",
    "arcpy.ia.TrainSupportVectorMachineClassifier(\n",
    "    \"SanMarinoS2_60m\", \n",
    "    \"samples\", \n",
    "    r\"C:\\Users\\Adian\\Documents\\ArcGIS\\Projects\\AnalysisAndModelingFinalVisualInt\\SanMarinoTrainedSVM_60m.ecd\", \n",
    "    '', \n",
    "    500, \n",
    "    \"COLOR;MEAN;STD;COUNT;COMPACTNESS;RECTANGULARITY\", \n",
    "    None\n",
    ")"
   ]
  },
  {
   "cell_type": "code",
   "execution_count": 16,
   "metadata": {},
   "outputs": [],
   "source": [
    "# Classify the Sentinel image using the Esri classifier definition file (.ecd)\n",
    "out_raster_dataset = arcpy.ia.ClassifyRaster(\n",
    "    \"SanMarinoS2_60m\",\n",
    "    r\"C:\\Users\\Adian\\Documents\\ArcGIS\\Projects\\AnalysisAndModelingFinalVisualInt\\SanMarinoTrainedSVM_60m.ecd\",\n",
    "    ''\n",
    ");\n",
    "out_raster_dataset.save(\n",
    "    r\"C:\\Users\\Adian\\Documents\\ArcGIS\\Projects\\AnalysisAndModelingFinalVisualInt\\LandCoverSanMarinoSVM_60m.crf\"\n",
    ")"
   ]
  },
  {
   "cell_type": "markdown",
   "metadata": {},
   "source": [
    "## RF"
   ]
  },
  {
   "cell_type": "code",
   "execution_count": 17,
   "metadata": {},
   "outputs": [
    {
     "data": {
      "text/html": [
       "<div class='gpresult'><h2>Messages</h2><div id='messages' data-messages='[\"Start Time: Monday, July 17, 2023 1:21:01 PM\",\"train accuracy = 0.9885 \",\"variable importance = 0.1414 0.0672 0.0373 0.0732 0.0334 0.0254 0.0298 0.0320 0.0361 0.0448 0.0416 0.0831 0.0287 0.0267 0.0400 0.0703 0.0294 0.0578 0.0203 0.0203 0.0203 0.0203 0.0203 \",\"Succeeded at Monday, July 17, 2023 1:21:02 PM (Elapsed Time: 0.73 seconds)\"]' data-show='true'><div id = 'default' /></div></div>"
      ],
      "text/plain": [
       "<geoprocessing server result object object at 0x000002553377B7B0>"
      ]
     },
     "execution_count": 17,
     "metadata": {},
     "output_type": "execute_result"
    }
   ],
   "source": [
    "# Train RF and Classify raster\n",
    "arcpy.stats.Forest(\n",
    "    \"PREDICT_RASTER\", \n",
    "    \"samples\", \n",
    "    \"Classcode\",\n",
    "    \"CATEGORICAL\",\n",
    "    None, \n",
    "    None, \n",
    "    r\"C:\\Users\\Adian\\Documents\\ArcGIS\\Projects\\AnalysisAndModelingFinal\\AnalysisAndModelingFinal.gdb\\SanMarinoS2_60m #\", \n",
    "    None,\n",
    "    None, \n",
    "    r\"C:\\Users\\Adian\\Documents\\ArcGIS\\Projects\\AnalysisAndModelingFinalVisualInt\\rf60.crf\",\n",
    "    None,\n",
    "    None, \n",
    "    r\"C:\\Users\\Adian\\Documents\\ArcGIS\\Projects\\AnalysisAndModelingFinal\\AnalysisAndModelingFinal.gdb\\SanMarinoS2_60m C:\\Users\\Adian\\Documents\\ArcGIS\\Projects\\AnalysisAndModelingFinal\\AnalysisAndModelingFinal.gdb\\SanMarinoS2_60m\",\n",
    "    r\"C:\\Users\\Adian\\Documents\\ArcGIS\\Projects\\AnalysisAndModelingFinalVisualInt\\TrainedFeatures60.shp\",\n",
    "    r\"C:\\Users\\Adian\\Documents\\ArcGIS\\Projects\\AnalysisAndModelingFinalVisualInt\\VariableImportance60.dbf\", \n",
    "    \"TRUE\", \n",
    "    100,\n",
    "    None,\n",
    "    None,\n",
    "    100,\n",
    "    None, \n",
    "    10,\n",
    "    r\"C:\\Users\\Adian\\Documents\\ArcGIS\\Projects\\AnalysisAndModelingFinalVisualInt\\classificationPerformanceTable60.dbf\", \n",
    "    None,\n",
    "    \"TRUE\", \n",
    "    1,\n",
    "    \"FALSE\"\n",
    ")"
   ]
  },
  {
   "cell_type": "markdown",
   "metadata": {},
   "source": [
    "## Accuracy Assessment\n"
   ]
  },
  {
   "cell_type": "code",
   "execution_count": 19,
   "metadata": {},
   "outputs": [
    {
     "data": {
      "text/html": [
       "<div class='gpresult'><h2>Messages</h2><div id='messages' data-messages='[\"Start Time: Monday, July 17, 2023 1:29:06 PM\",\"Succeeded at Monday, July 17, 2023 1:29:06 PM (Elapsed Time: 0.22 seconds)\"]' data-show='true'><div id = 'default' /></div></div>"
      ],
      "text/plain": [
       "<Result 'C:\\\\Users\\\\Adian\\\\Documents\\\\ArcGIS\\\\Projects\\\\AnalysisAndModelingFinalVisualInt\\\\AnalysisAndModelingFinalVisualInt.gdb\\\\AccuracyAssessmentPointsSVM_60m'>"
      ]
     },
     "execution_count": 19,
     "metadata": {},
     "output_type": "execute_result"
    }
   ],
   "source": [
    "# Duplicate existing SVM accuracy assessment points\n",
    "arcpy.management.CopyFeatures(\n",
    "    \"AccuracyAssessmentPointsSVM\",\n",
    "    r\"C:\\Users\\Adian\\Documents\\ArcGIS\\Projects\\AnalysisAndModelingFinalVisualInt\\AnalysisAndModelingFinalVisualInt.gdb\\AccuracyAssessmentPointsSVM_60m\", \n",
    "    '', \n",
    "    None, \n",
    "    None, \n",
    "    None\n",
    ")"
   ]
  },
  {
   "cell_type": "code",
   "execution_count": 20,
   "metadata": {},
   "outputs": [
    {
     "data": {
      "text/html": [
       "<div class='gpresult'><h2>Messages</h2><div id='messages' data-messages='[\"Start Time: Monday, July 17, 2023 1:29:46 PM\",\"Succeeded at Monday, July 17, 2023 1:29:46 PM (Elapsed Time: 0.21 seconds)\"]' data-show='true'><div id = 'default' /></div></div>"
      ],
      "text/plain": [
       "<Result 'C:\\\\Users\\\\Adian\\\\Documents\\\\ArcGIS\\\\Projects\\\\AnalysisAndModelingFinalVisualInt\\\\AnalysisAndModelingFinalVisualInt.gdb\\\\AccuracyAssessmentPointsRF_60m'>"
      ]
     },
     "execution_count": 20,
     "metadata": {},
     "output_type": "execute_result"
    }
   ],
   "source": [
    "# Duplicate existing RF accuracy assessment points\n",
    "arcpy.management.CopyFeatures(\n",
    "    \"AccuracyAssessmentPointsRF\",\n",
    "    r\"C:\\Users\\Adian\\Documents\\ArcGIS\\Projects\\AnalysisAndModelingFinalVisualInt\\AnalysisAndModelingFinalVisualInt.gdb\\AccuracyAssessmentPointsRF_60m\", \n",
    "    '', \n",
    "    None, \n",
    "    None, \n",
    "    None\n",
    ")"
   ]
  },
  {
   "cell_type": "markdown",
   "metadata": {},
   "source": [
    "### SVM"
   ]
  },
  {
   "cell_type": "code",
   "execution_count": 21,
   "metadata": {},
   "outputs": [
    {
     "data": {
      "text/html": [
       "<div class='gpresult'><h2>Messages</h2><div id='messages' data-messages='[\"Start Time: Monday, July 17, 2023 1:34:13 PM\",\"Succeeded at Monday, July 17, 2023 1:34:14 PM (Elapsed Time: 0.17 seconds)\"]' data-show='true'><div id = 'default' /></div></div>"
      ],
      "text/plain": [
       "<geoprocessing server result object object at 0x000002553377B660>"
      ]
     },
     "execution_count": 21,
     "metadata": {},
     "output_type": "execute_result"
    }
   ],
   "source": [
    "# Update classified column with the \"LandCoverSanMarinoSVM_60m\" values\n",
    "arcpy.ia.UpdateAccuracyAssessmentPoints(\n",
    "    \"LandCoverSanMarinoSVM_60m\", \n",
    "    \"AccuracyAssessmentPointsSVM_60m\", \n",
    "    r\"C:\\Users\\Adian\\Documents\\ArcGIS\\Projects\\AnalysisAndModelingFinalVisualInt\\AnalysisAndModelingFinalVisualInt.gdb\\AccuracyAssessmentPointsSVM_60m_updated\", \n",
    "    \"CLASSIFIED\", \n",
    "    None, \n",
    "    None\n",
    ")"
   ]
  },
  {
   "cell_type": "code",
   "execution_count": 22,
   "metadata": {},
   "outputs": [
    {
     "data": {
      "text/html": [
       "<div class='gpresult'><h2>Messages</h2><div id='messages' data-messages='[\"Start Time: Monday, July 17, 2023 1:35:10 PM\",\"IoU = {[C_10]: 0.6429, [C_20]: 0.7500, [C_30]: 0.6667}\",\"Succeeded at Monday, July 17, 2023 1:35:10 PM (Elapsed Time: 0.09 seconds)\"]' data-show='true'><div id = 'default' /></div></div>"
      ],
      "text/plain": [
       "<geoprocessing server result object object at 0x000002553377B7B0>"
      ]
     },
     "execution_count": 22,
     "metadata": {},
     "output_type": "execute_result"
    }
   ],
   "source": [
    "# Calculate confusion matrix\n",
    "arcpy.ia.ComputeConfusionMatrix(\n",
    "    \"AccuracyAssessmentPointsSVM_60m_updated\", \n",
    "    r\"C:\\Users\\Adian\\Documents\\ArcGIS\\Projects\\AnalysisAndModelingFinalVisualInt\\AnalysisAndModelingFinalVisualInt.gdb\\AccuracySVM_60m\"\n",
    ")"
   ]
  },
  {
   "cell_type": "markdown",
   "metadata": {},
   "source": [
    "### RF"
   ]
  },
  {
   "cell_type": "code",
   "execution_count": 1,
   "metadata": {},
   "outputs": [
    {
     "data": {
      "text/html": [
       "<div class='gpresult'><h2>Messages</h2><div id='messages' data-messages='[\"Start Time: Friday, July 28, 2023 1:54:58 AM\",\"WARNING 001789: Not all points could be updated.\",\"Succeeded at Friday, July 28, 2023 1:54:59 AM (Elapsed Time: 0.50 seconds)\"]' data-show='true'><div id = 'default' /></div></div>"
      ],
      "text/plain": [
       "<geoprocessing server result object object at 0x000001FAB80B0540>"
      ]
     },
     "execution_count": 1,
     "metadata": {},
     "output_type": "execute_result"
    }
   ],
   "source": [
    "# Update classified column with the RF 60m values\n",
    "# 8 or 16 bpp raster must be used as input\n",
    "arcpy.ia.UpdateAccuracyAssessmentPoints(\n",
    "    \"rf60_16bit.crf\", \n",
    "    \"AccuracyAssessmentPointsRF_60m\", \n",
    "    r\"C:\\Users\\Adian\\Documents\\ArcGIS\\Projects\\AnalysisAndModelingFinalVisualInt\\AnalysisAndModelingFinalVisualInt.gdb\\AccuracyAssessmentPointsRF_60m_updated\", \n",
    "    \"CLASSIFIED\", \n",
    "    None, \n",
    "    None\n",
    ")"
   ]
  },
  {
   "cell_type": "code",
   "execution_count": 2,
   "metadata": {},
   "outputs": [
    {
     "name": "stdout",
     "output_type": "stream",
     "text": [
      "Attribute values updated successfully.\n"
     ]
    }
   ],
   "source": [
    "# Update ground truth identifiers with class values\n",
    "\n",
    "# Path to the workspace and the feature class\n",
    "workspace = r\"C:\\Users\\Adian\\Documents\\ArcGIS\\Projects\\AnalysisAndModelingFinalVisualInt\"\n",
    "\n",
    "feature_class = \"AccuracyAssessmentPointsRF_60m_updated\"\n",
    "\n",
    "# Field name to be updated\n",
    "field_name = \"Classified\"\n",
    "\n",
    "\n",
    "# Map values to match simple land cover\n",
    "value_mapping = {\n",
    "    0: 10,\n",
    "    1: 20,\n",
    "    2: 30\n",
    "}\n",
    "\n",
    "try:\n",
    "    arcpy.env.workspace = workspace\n",
    "\n",
    "    # Start an edit session\n",
    "    edit = arcpy.da.Editor(workspace)\n",
    "    edit.startEditing(False, True)\n",
    "    edit.startOperation()\n",
    "\n",
    "    # Update the attribute values\n",
    "    with arcpy.da.UpdateCursor(feature_class, field_name) as cursor:\n",
    "        for row in cursor:\n",
    "            old_value = row[0]\n",
    "            if old_value in value_mapping:\n",
    "                new_value = value_mapping[old_value]\n",
    "                row[0] = new_value\n",
    "                cursor.updateRow(row)\n",
    "\n",
    "    # Stop the edit session and save changes\n",
    "    edit.stopOperation()\n",
    "    edit.stopEditing(True)\n",
    "\n",
    "    print(\"Attribute values updated\")\n",
    "\n",
    "except Exception as e:\n",
    "    print(\"Error updating attribute values: \" + str(e))"
   ]
  },
  {
   "cell_type": "code",
   "execution_count": 1,
   "metadata": {},
   "outputs": [
    {
     "data": {
      "text/html": [
       "<div class='gpresult'><h2>Messages</h2><div id='messages' data-messages='[\"Start Time: Friday, July 28, 2023 2:02:21 AM\",\"IoU = {[C_10]: 0.4286, [C_20]: 0.6486, [C_30]: 0.5625}\",\"Succeeded at Friday, July 28, 2023 2:02:22 AM (Elapsed Time: 0.19 seconds)\"]' data-show='true'><div id = 'default' /></div></div>"
      ],
      "text/plain": [
       "<geoprocessing server result object object at 0x000001C5018551E0>"
      ]
     },
     "execution_count": 1,
     "metadata": {},
     "output_type": "execute_result"
    }
   ],
   "source": [
    "# Calculate confusion Matrix\n",
    "arcpy.ia.ComputeConfusionMatrix(\n",
    "    \"AccuracyAssessmentPointsRF_60m_updated\", \n",
    "    r\"C:\\Users\\Adian\\Documents\\ArcGIS\\Projects\\AnalysisAndModelingFinalVisualInt\\AnalysisAndModelingFinalVisualInt.gdb\\AccuracyRF_60m\"\n",
    ")"
   ]
  },
  {
   "cell_type": "code",
   "execution_count": null,
   "metadata": {},
   "outputs": [],
   "source": []
  }
 ],
 "metadata": {
  "kernelspec": {
   "display_name": "ArcGISPro",
   "language": "Python",
   "name": "python3"
  },
  "language_info": {
   "file_extension": ".py",
   "name": "python",
   "version": "3"
  }
 },
 "nbformat": 4,
 "nbformat_minor": 2
}
