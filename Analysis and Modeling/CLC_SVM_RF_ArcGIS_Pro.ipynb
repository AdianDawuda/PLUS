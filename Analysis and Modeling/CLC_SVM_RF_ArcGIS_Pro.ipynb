{
 "cells": [
  {
   "cell_type": "markdown",
   "metadata": {},
   "source": [
    "# Support Vector Machine and Random Trees (Random Forest) Classification\n",
    "\n",
    "This notebook is to be used with the ArcGIS Pro Python API to classify SENTINEL-2 images into [CORINE](https://land.copernicus.eu/pan-european/corine-land-cover/clc2018) land cover classes using SVM and RF classifiers.\n",
    "\n",
    "Author: Adian Dawuda | adian.dawuda@stud.plus.ac.at"
   ]
  },
  {
   "cell_type": "code",
   "execution_count": 8,
   "metadata": {},
   "outputs": [],
   "source": [
    "# Import system modules\n",
    "import arcpy\n",
    "from arcpy.ia import *"
   ]
  },
  {
   "cell_type": "code",
   "execution_count": 2,
   "metadata": {},
   "outputs": [
    {
     "data": {
      "text/html": [
       "<div class='gpresult'><h2>Messages</h2><div id='messages' data-messages='[\"Start Time: Thursday, July 13, 2023 1:26:50 PM\",\"Building Pyramids...\",\"Succeeded at Thursday, July 13, 2023 1:26:55 PM (Elapsed Time: 5.14 seconds)\"]' data-show='true'><div id = 'default' /></div></div>"
      ],
      "text/plain": [
       "<Result 'C:\\\\Users\\\\Adian\\\\Documents\\\\ArcGIS\\\\Projects\\\\AnalysisAndModelingFinal\\\\AnalysisAndModelingFinal.gdb\\\\SanMarinoS2_all_bands'>"
      ]
     },
     "execution_count": 2,
     "metadata": {},
     "output_type": "execute_result"
    }
   ],
   "source": [
    "# Clip Sentinel 2 raster to San Marino Boundaries\n",
    "arcpy.management.Clip(\n",
    "    \"SanMarinoS2_full.tif\", \n",
    "    \"-20037507.0671618 -30240971.9583861 20037507.0671618 18460513.2470149\", \n",
    "    r\"C:\\Users\\Adian\\Documents\\ArcGIS\\Projects\\AnalysisAndModelingFinal\\AnalysisAndModelingFinal.gdb\\SanMarinoS2_all_bands\", \n",
    "    \"World_Countries\", \n",
    "    \"1.79e+308\", \n",
    "    \"ClippingGeometry\", \n",
    "    \"NO_MAINTAIN_EXTENT\"\n",
    ")"
   ]
  },
  {
   "cell_type": "code",
   "execution_count": 1,
   "metadata": {},
   "outputs": [
    {
     "data": {
      "text/html": [
       "<div class='gpresult'><h2>Messages</h2><div id='messages' data-messages='[\"Start Time: Thursday, July 13, 2023 2:49:35 PM\",\"Succeeded at Thursday, July 13, 2023 2:49:35 PM (Elapsed Time: 0.04 seconds)\"]' data-show='true'><div id = 'default' /></div></div>"
      ],
      "text/plain": [
       "<Result 'SanMarinoS2'>"
      ]
     },
     "execution_count": 1,
     "metadata": {},
     "output_type": "execute_result"
    }
   ],
   "source": [
    "# Create a copy of the image with bands 2, 3, 4, and 8\n",
    "arcpy.management.MakeRasterLayer(\n",
    "    \"SanMarinoS2_all_bands\", \n",
    "    \"SanMarinoS2\", \n",
    "    '', \n",
    "    '1378670 5448230 1394740 5465090 PROJCS[\"WGS_1984_Web_Mercator_Auxiliary_Sphere\",GEOGCS[\"GCS_WGS_1984\",DATUM[\"D_WGS_1984\",SPHEROID[\"WGS_1984\",6378137.0,298.257223563]],PRIMEM[\"Greenwich\",0.0],UNIT[\"Degree\",0.0174532925199433]],PROJECTION[\"Mercator_Auxiliary_Sphere\"],PARAMETER[\"False_Easting\",0.0],PARAMETER[\"False_Northing\",0.0],PARAMETER[\"Central_Meridian\",0.0],PARAMETER[\"Standard_Parallel_1\",0.0],PARAMETER[\"Auxiliary_Sphere_Type\",0.0],UNIT[\"Meter\",1.0]]', \n",
    "    \"2;3;4;8\"\n",
    ")"
   ]
  },
  {
   "cell_type": "markdown",
   "metadata": {},
   "source": [
    "## SVM"
   ]
  },
  {
   "cell_type": "code",
   "execution_count": null,
   "metadata": {},
   "outputs": [],
   "source": [
    "# Train SVM and Generate an Esri classifier definition file (.ecd)\n",
    "arcpy.ia.TrainSupportVectorMachineClassifier(\n",
    "    \"SanMarinoS2\", \n",
    "    \"samples\", \n",
    "    r\"C:\\Users\\Adian\\Documents\\ArcGIS\\Projects\\AnalysisAndModelingFinal\\SanMarinoTrainedSVM.ecd\", \n",
    "    '', \n",
    "    500, \n",
    "    \"COLOR;MEAN;STD;COUNT;COMPACTNESS;RECTANGULARITY\", \n",
    "    None\n",
    ")"
   ]
  },
  {
   "cell_type": "code",
   "execution_count": 6,
   "metadata": {},
   "outputs": [],
   "source": [
    "# Classify the Sentinel image using the Esri classifier definition file (.ecd)\n",
    "out_raster_dataset = arcpy.ia.ClassifyRaster(\n",
    "    \"SanMarinoS2.tif\",\n",
    "    r\"C:\\Users\\Adian\\Documents\\ArcGIS\\Projects\\AnalysisAndModelingFinal\\SanMarinoTrainedSVM.ecd\",\n",
    "    ''\n",
    ");\n",
    "out_raster_dataset.save(\n",
    "    r\"C:\\Users\\Adian\\Documents\\ArcGIS\\Projects\\AnalysisAndModelingFinal\\LandCoverSanMarinoSVM.crf\"\n",
    ")"
   ]
  },
  {
   "cell_type": "markdown",
   "metadata": {},
   "source": [
    "## RF"
   ]
  },
  {
   "cell_type": "code",
   "execution_count": 18,
   "metadata": {},
   "outputs": [
    {
     "data": {
      "text/html": [
       "<div class='gpresult'><h2>Messages</h2><div id='messages' data-messages='[\"Start Time: Thursday, July 13, 2023 5:05:21 PM\",\"train accuracy = 0.9037 \",\"variable importance = 0.2935 0.2333 0.2544 0.2188 \",\"Succeeded at Thursday, July 13, 2023 5:05:23 PM (Elapsed Time: 2.02 seconds)\"]' data-show='true'><div id = 'default' /></div></div>"
      ],
      "text/plain": [
       "<geoprocessing server result object object at 0x000001F0B0950030>"
      ]
     },
     "execution_count": 18,
     "metadata": {},
     "output_type": "execute_result"
    }
   ],
   "source": [
    "# Train RF and Classify raster\n",
    "arcpy.stats.Forest(\n",
    "    \"PREDICT_RASTER\", \n",
    "    \"samples\", \n",
    "    \"Classcode\", \n",
    "    \"CATEGORICAL\", \n",
    "    None, \n",
    "    None, \n",
    "    r\"C:\\Users\\Adian\\Documents\\ArcGIS\\Projects\\AnalysisAndModelingFinal\\AnalysisAndModelingFinal.gdb\\SanMarinoS2\\Band_4 #;C:\\Users\\Adian\\Documents\\ArcGIS\\Projects\\AnalysisAndModelingFinal\\AnalysisAndModelingFinal.gdb\\SanMarinoS2\\Band_3 #;C:\\Users\\Adian\\Documents\\ArcGIS\\Projects\\AnalysisAndModelingFinal\\AnalysisAndModelingFinal.gdb\\SanMarinoS2\\Band_2 #;C:\\Users\\Adian\\Documents\\ArcGIS\\Projects\\AnalysisAndModelingFinal\\AnalysisAndModelingFinal.gdb\\SanMarinoS2\\Band_8 #\", \n",
    "    None, \n",
    "    None, \n",
    "    r\"C:\\Users\\Adian\\Documents\\ArcGIS\\Projects\\AnalysisAndModelingFinal\\rf10.tif\", \n",
    "    None, \n",
    "    None, \n",
    "    r\"C:\\Users\\Adian\\Documents\\ArcGIS\\Projects\\AnalysisAndModelingFinal\\AnalysisAndModelingFinal.gdb\\SanMarinoS2\\Band_4 C:\\Users\\Adian\\Documents\\ArcGIS\\Projects\\AnalysisAndModelingFinal\\AnalysisAndModelingFinal.gdb\\SanMarinoS2\\Band_4;C:\\Users\\Adian\\Documents\\ArcGIS\\Projects\\AnalysisAndModelingFinal\\AnalysisAndModelingFinal.gdb\\SanMarinoS2\\Band_3 C:\\Users\\Adian\\Documents\\ArcGIS\\Projects\\AnalysisAndModelingFinal\\AnalysisAndModelingFinal.gdb\\SanMarinoS2\\Band_3;C:\\Users\\Adian\\Documents\\ArcGIS\\Projects\\AnalysisAndModelingFinal\\AnalysisAndModelingFinal.gdb\\SanMarinoS2\\Band_2 C:\\Users\\Adian\\Documents\\ArcGIS\\Projects\\AnalysisAndModelingFinal\\AnalysisAndModelingFinal.gdb\\SanMarinoS2\\Band_2;C:\\Users\\Adian\\Documents\\ArcGIS\\Projects\\AnalysisAndModelingFinal\\AnalysisAndModelingFinal.gdb\\SanMarinoS2\\Band_8 C:\\Users\\Adian\\Documents\\ArcGIS\\Projects\\AnalysisAndModelingFinal\\AnalysisAndModelingFinal.gdb\\SanMarinoS2\\Band_8\", \n",
    "    r\"C:\\Users\\Adian\\Documents\\ArcGIS\\Projects\\AnalysisAndModelingFinal\\TrainedFeatures10.shp\", \n",
    "    r\"C:\\Users\\Adian\\Documents\\ArcGIS\\Projects\\AnalysisAndModelingFinal\\VariableImportance10.dbf\", \n",
    "    \"TRUE\", \n",
    "    100, \n",
    "    None, \n",
    "    None, \n",
    "    100, \n",
    "    None, \n",
    "    10, \n",
    "    r\"C:\\Users\\Adian\\Documents\\ArcGIS\\Projects\\AnalysisAndModelingFinal\\classificationPerformanceTable10.dbf\", \n",
    "    None, \n",
    "    \"TRUE\", \n",
    "    1, \n",
    "    \"FALSE\"\n",
    ")"
   ]
  },
  {
   "cell_type": "markdown",
   "metadata": {},
   "source": [
    "## Accuracy Assessment"
   ]
  },
  {
   "cell_type": "code",
   "execution_count": 20,
   "metadata": {},
   "outputs": [
    {
     "data": {
      "text/html": [
       "<div class='gpresult'><h2>Messages</h2><div id='messages' data-messages='[\"Start Time: Thursday, July 13, 2023 5:11:08 PM\",\"Succeeded at Thursday, July 13, 2023 5:11:08 PM (Elapsed Time: 0.68 seconds)\"]' data-show='true'><div id = 'default' /></div></div>"
      ],
      "text/plain": [
       "<Result 'C:\\\\Users\\\\Adian\\\\Documents\\\\ArcGIS\\\\Projects\\\\AnalysisAndModelingFinal\\\\AnalysisAndModelingFinal.gdb\\\\CORINE_Raster'>"
      ]
     },
     "execution_count": 20,
     "metadata": {},
     "output_type": "execute_result"
    }
   ],
   "source": [
    "# Convert CLC to raster format\n",
    "arcpy.conversion.PolygonToRaster(\n",
    "    \"CORINE_LC_San_Marino\", \n",
    "    \"Code_18\", \n",
    "    r\"C:\\Users\\Adian\\Documents\\ArcGIS\\Projects\\AnalysisAndModelingFinal\\AnalysisAndModelingFinal.gdb\\CORINE_Raster\", \n",
    "    \"CELL_CENTER\", \n",
    "    \"NONE\", \n",
    "    r\"C:\\Users\\Adian\\Documents\\ArcGIS\\Projects\\AnalysisAndModelingFinal\\AnalysisAndModelingFinal.gdb\\SanMarinoS2\", \n",
    "    \"DO_NOT_BUILD\"\n",
    ")"
   ]
  },
  {
   "cell_type": "markdown",
   "metadata": {},
   "source": [
    "### SVM"
   ]
  },
  {
   "cell_type": "code",
   "execution_count": 26,
   "metadata": {},
   "outputs": [
    {
     "data": {
      "text/html": [
       "<div class='gpresult'><h2>Messages</h2><div id='messages' data-messages='[\"Start Time: Thursday, July 13, 2023 5:16:46 PM\",\"Succeeded at Thursday, July 13, 2023 5:16:46 PM (Elapsed Time: 0.12 seconds)\"]' data-show='true'><div id = 'default' /></div></div>"
      ],
      "text/plain": [
       "<geoprocessing server result object object at 0x000001F05367DB10>"
      ]
     },
     "execution_count": 26,
     "metadata": {},
     "output_type": "execute_result"
    }
   ],
   "source": [
    "# Create points for SVM\n",
    "arcpy.ia.CreateAccuracyAssessmentPoints(\n",
    "    \"LandCoverSanMarinoSVM\", \n",
    "    r\"C:\\Users\\Adian\\Documents\\ArcGIS\\Projects\\AnalysisAndModelingFinal\\AccuracyAssessmentPointsSVMPrelim.shp\", \n",
    "    \"CLASSIFIED\", \n",
    "    500, \n",
    "    \"STRATIFIED_RANDOM\",\n",
    "    None\n",
    ")"
   ]
  },
  {
   "cell_type": "code",
   "execution_count": 27,
   "metadata": {},
   "outputs": [
    {
     "data": {
      "text/html": [
       "<div class='gpresult'><h2>Messages</h2><div id='messages' data-messages='[\"Start Time: Thursday, July 13, 2023 5:16:50 PM\",\"Succeeded at Thursday, July 13, 2023 5:16:51 PM (Elapsed Time: 0.08 seconds)\"]' data-show='true'><div id = 'default' /></div></div>"
      ],
      "text/plain": [
       "<geoprocessing server result object object at 0x000001F05367DDB0>"
      ]
     },
     "execution_count": 27,
     "metadata": {},
     "output_type": "execute_result"
    }
   ],
   "source": [
    "# Update points with ground truth identifiers\n",
    "arcpy.ia.UpdateAccuracyAssessmentPoints(\n",
    "    \"CORINE_Raster\", \n",
    "    \"AccuracyAssessmentPointsSVMPrelim\", \n",
    "    r\"C:\\Users\\Adian\\Documents\\ArcGIS\\Projects\\AnalysisAndModelingFinal\\AccuracyAssessmentPointsSVM.shp\", \n",
    "    \"GROUND_TRUTH\", \n",
    "    None, \n",
    "    None\n",
    ")"
   ]
  },
  {
   "cell_type": "code",
   "execution_count": 28,
   "metadata": {},
   "outputs": [
    {
     "name": "stdout",
     "output_type": "stream",
     "text": [
      "Attribute values updated successfully.\n"
     ]
    }
   ],
   "source": [
    "# Update ground truth identifiers with class values\n",
    "\n",
    "# Path to the workspace and the feature class\n",
    "workspace = r\"C:\\Users\\Adian\\Documents\\ArcGIS\\Projects\\AnalysisAndModelingFinal\"\n",
    "\n",
    "feature_class = \"AccuracyAssessmentPointsSVM\"\n",
    "\n",
    "# Field name to be updated\n",
    "field_name = \"GrndTruth\"\n",
    "\n",
    "\n",
    "# Map values to match CLC\n",
    "value_mapping = {\n",
    "    1: 211,\n",
    "    2: 112,\n",
    "    3: 324,\n",
    "    4: 243,\n",
    "    5: 242,\n",
    "    6: 311,\n",
    "    7: 313,\n",
    "    8: 231,\n",
    "    9: 321,\n",
    "    10: 121,\n",
    "    11: 142\n",
    "}\n",
    "\n",
    "try:\n",
    "    arcpy.env.workspace = workspace\n",
    "\n",
    "    # Start an edit session\n",
    "    edit = arcpy.da.Editor(workspace)\n",
    "    edit.startEditing(False, True)\n",
    "    edit.startOperation()\n",
    "\n",
    "    # Update the attribute values\n",
    "    with arcpy.da.UpdateCursor(feature_class, field_name) as cursor:\n",
    "        for row in cursor:\n",
    "            old_value = row[0]\n",
    "            if old_value in value_mapping:\n",
    "                new_value = value_mapping[old_value]\n",
    "                row[0] = new_value\n",
    "                cursor.updateRow(row)\n",
    "\n",
    "    # Stop the edit session and save changes\n",
    "    edit.stopOperation()\n",
    "    edit.stopEditing(True)\n",
    "\n",
    "    print(\"Attribute values updated\")\n",
    "\n",
    "except Exception as e:\n",
    "    print(\"Error updating attribute values: \" + str(e))"
   ]
  },
  {
   "cell_type": "code",
   "execution_count": 29,
   "metadata": {},
   "outputs": [
    {
     "data": {
      "text/html": [
       "<div class='gpresult'><h2>Messages</h2><div id='messages' data-messages='[\"Start Time: Thursday, July 13, 2023 5:17:02 PM\",\"IoU = {[C_112]: 0.2125, [C_121]: 0.1923, [C_142]: 0.0000, [C_211]: 0.1323, [C_231]: 0.0000, [C_242]: 0.0549, [C_243]: 0.0909, [C_311]: 0.0580, [C_313]: 0.0862, [C_321]: 0.0263, [C_324]: 0.1000}\",\"Succeeded at Thursday, July 13, 2023 5:17:02 PM (Elapsed Time: 0.15 seconds)\"]' data-show='true'><div id = 'default' /></div></div>"
      ],
      "text/plain": [
       "<geoprocessing server result object object at 0x000001F0A0D4B810>"
      ]
     },
     "execution_count": 29,
     "metadata": {},
     "output_type": "execute_result"
    }
   ],
   "source": [
    "# Calculate confusion Matrix\n",
    "arcpy.ia.ComputeConfusionMatrix(\n",
    "    \"AccuracyAssessmentPointsSVM\", \n",
    "    r\"C:\\Users\\Adian\\Documents\\ArcGIS\\Projects\\AnalysisAndModelingFinal\\AnalysisAndModelingFinal.gdb\\AccuracySVM\"\n",
    ")"
   ]
  },
  {
   "cell_type": "markdown",
   "metadata": {},
   "source": [
    "### RF"
   ]
  },
  {
   "cell_type": "code",
   "execution_count": 3,
   "metadata": {},
   "outputs": [
    {
     "data": {
      "text/html": [
       "<div class='gpresult'><h2>Messages</h2><div id='messages' data-messages='[\"Start Time: Thursday, July 27, 2023 3:14:20 PM\",\"Succeeded at Thursday, July 27, 2023 3:14:20 PM (Elapsed Time: 0.17 seconds)\"]' data-show='true'><div id = 'default' /></div></div>"
      ],
      "text/plain": [
       "<geoprocessing server result object object at 0x00000257D1C47AE0>"
      ]
     },
     "execution_count": 3,
     "metadata": {},
     "output_type": "execute_result"
    }
   ],
   "source": [
    "# Create points for RF\n",
    "# The classification layer must have 8 or 16 bpp\n",
    "arcpy.ia.CreateAccuracyAssessmentPoints(\n",
    "    \"rf10_16bit.crf\", \n",
    "    r\"C:\\Users\\Adian\\Documents\\ArcGIS\\Projects\\AnalysisAndModelingFinal\\AccuracyAssessmentPointsRFPrelim.shp\", \n",
    "    \"CLASSIFIED\", \n",
    "    500, \n",
    "    \"STRATIFIED_RANDOM\",\n",
    "    None\n",
    ")"
   ]
  },
  {
   "cell_type": "code",
   "execution_count": 4,
   "metadata": {},
   "outputs": [
    {
     "name": "stdout",
     "output_type": "stream",
     "text": [
      "Attribute values updated successfully.\n"
     ]
    }
   ],
   "source": [
    "# Update classification with class values\n",
    "\n",
    "# Path to the workspace and the feature class\n",
    "workspace = r\"C:\\Users\\Adian\\Documents\\ArcGIS\\Projects\\AnalysisAndModelingFinal\"\n",
    "\n",
    "feature_class = \"AccuracyAssessmentPointsRFPrelim\"\n",
    "\n",
    "# Field name to be updated\n",
    "field_name = \"Classified\"\n",
    "\n",
    "\n",
    "# Map values to match CLC\n",
    "value_mapping = {\n",
    "    0: 112,\n",
    "    1: 121,\n",
    "    2: 142,\n",
    "    3: 211,\n",
    "    4: 231,\n",
    "    5: 242,\n",
    "    6: 243,\n",
    "    7: 311,\n",
    "    8: 313,\n",
    "    9: 321,\n",
    "    10: 324\n",
    "}\n",
    "\n",
    "try:\n",
    "    arcpy.env.workspace = workspace\n",
    "\n",
    "    # Start an edit session\n",
    "    edit = arcpy.da.Editor(workspace)\n",
    "    edit.startEditing(False, True)\n",
    "    edit.startOperation()\n",
    "\n",
    "    # Update the attribute values\n",
    "    with arcpy.da.UpdateCursor(feature_class, field_name) as cursor:\n",
    "        for row in cursor:\n",
    "            old_value = row[0]\n",
    "            if old_value in value_mapping:\n",
    "                new_value = value_mapping[old_value]\n",
    "                row[0] = new_value\n",
    "                cursor.updateRow(row)\n",
    "\n",
    "    # Stop the edit session and save changes\n",
    "    edit.stopOperation()\n",
    "    edit.stopEditing(True)\n",
    "\n",
    "    print(\"Attribute values updated\")\n",
    "\n",
    "except Exception as e:\n",
    "    print(\"Error updating attribute values: \" + str(e))"
   ]
  },
  {
   "cell_type": "code",
   "execution_count": 5,
   "metadata": {},
   "outputs": [
    {
     "data": {
      "text/html": [
       "<div class='gpresult'><h2>Messages</h2><div id='messages' data-messages='[\"Start Time: Thursday, July 27, 2023 3:19:36 PM\",\"Succeeded at Thursday, July 27, 2023 3:19:36 PM (Elapsed Time: 0.14 seconds)\"]' data-show='true'><div id = 'default' /></div></div>"
      ],
      "text/plain": [
       "<geoprocessing server result object object at 0x00000257CD337A50>"
      ]
     },
     "execution_count": 5,
     "metadata": {},
     "output_type": "execute_result"
    }
   ],
   "source": [
    "# Update points with ground truth identifiers\n",
    "arcpy.ia.UpdateAccuracyAssessmentPoints(\n",
    "    \"CORINE_Raster\", \n",
    "    \"AccuracyAssessmentPointsRFPrelim\", \n",
    "    r\"C:\\Users\\Adian\\Documents\\ArcGIS\\Projects\\AnalysisAndModelingFinal\\AccuracyAssessmentPointsRF.shp\", \n",
    "    \"GROUND_TRUTH\", \n",
    "    None, \n",
    "    None\n",
    ")"
   ]
  },
  {
   "cell_type": "code",
   "execution_count": 6,
   "metadata": {},
   "outputs": [
    {
     "name": "stdout",
     "output_type": "stream",
     "text": [
      "Attribute values updated successfully.\n"
     ]
    }
   ],
   "source": [
    "# Update ground truth identifiers with class values\n",
    "\n",
    "# Path to the workspace and the feature class\n",
    "workspace = r\"C:\\Users\\Adian\\Documents\\ArcGIS\\Projects\\AnalysisAndModelingFinal\"\n",
    "\n",
    "feature_class = \"AccuracyAssessmentPointsRF\"\n",
    "\n",
    "# Field name to be updated\n",
    "field_name = \"GrndTruth\"\n",
    "\n",
    "\n",
    "# Map values to match CLC\n",
    "value_mapping = {\n",
    "    1: 211,\n",
    "    2: 112,\n",
    "    3: 324,\n",
    "    4: 243,\n",
    "    5: 242,\n",
    "    6: 311,\n",
    "    7: 313,\n",
    "    8: 231,\n",
    "    9: 321,\n",
    "    10: 121,\n",
    "    11: 142\n",
    "}\n",
    "\n",
    "try:\n",
    "    arcpy.env.workspace = workspace\n",
    "\n",
    "    # Start an edit session\n",
    "    edit = arcpy.da.Editor(workspace)\n",
    "    edit.startEditing(False, True)\n",
    "    edit.startOperation()\n",
    "\n",
    "    # Update the attribute values\n",
    "    with arcpy.da.UpdateCursor(feature_class, field_name) as cursor:\n",
    "        for row in cursor:\n",
    "            old_value = row[0]\n",
    "            if old_value in value_mapping:\n",
    "                new_value = value_mapping[old_value]\n",
    "                row[0] = new_value\n",
    "                cursor.updateRow(row)\n",
    "\n",
    "    # Stop the edit session and save changes\n",
    "    edit.stopOperation()\n",
    "    edit.stopEditing(True)\n",
    "\n",
    "    print(\"Attribute values updated\")\n",
    "\n",
    "except Exception as e:\n",
    "    print(\"Error updating attribute values: \" + str(e))"
   ]
  },
  {
   "cell_type": "code",
   "execution_count": 7,
   "metadata": {
    "scrolled": true
   },
   "outputs": [
    {
     "data": {
      "text/html": [
       "<div class='gpresult'><h2>Messages</h2><div id='messages' data-messages='[\"Start Time: Thursday, July 27, 2023 3:20:33 PM\",\"IoU = {[C_112]: 0.1170, [C_121]: 0.1042, [C_142]: 0.0000, [C_211]: 0.1707, [C_231]: 0.0000, [C_242]: 0.0299, [C_243]: 0.0543, [C_311]: 0.1471, [C_313]: 0.0517, [C_321]: 0.0000, [C_324]: 0.0682}\",\"Succeeded at Thursday, July 27, 2023 3:20:33 PM (Elapsed Time: 0.20 seconds)\"]' data-show='true'><div id = 'default' /></div></div>"
      ],
      "text/plain": [
       "<geoprocessing server result object object at 0x000002581FFF9C30>"
      ]
     },
     "execution_count": 7,
     "metadata": {},
     "output_type": "execute_result"
    }
   ],
   "source": [
    "# Calculate confusion Matrix\n",
    "arcpy.ia.ComputeConfusionMatrix(\n",
    "    \"AccuracyAssessmentPointsRF\", \n",
    "    r\"C:\\Users\\Adian\\Documents\\ArcGIS\\Projects\\AnalysisAndModelingFinal\\AnalysisAndModelingFinal.gdb\\AccuracyRF\"\n",
    ")"
   ]
  },
  {
   "cell_type": "markdown",
   "metadata": {},
   "source": [
    "# 60m resolution analysis"
   ]
  },
  {
   "cell_type": "code",
   "execution_count": null,
   "metadata": {},
   "outputs": [],
   "source": [
    "# Resample image\n",
    "arcpy.management.Resample(\n",
    "    \"SanMarinoS2_all_bands\", \n",
    "    r\"C:\\Users\\Adian\\Documents\\ArcGIS\\Projects\\AnalysisAndModelingFinal\\AnalysisAndModelingFinal.gdb\\SanMarinoS2_60m\", \n",
    "    \"60 60\", \n",
    "    \"NEAREST\"\n",
    ")"
   ]
  },
  {
   "cell_type": "markdown",
   "metadata": {},
   "source": [
    "## SVM"
   ]
  },
  {
   "cell_type": "code",
   "execution_count": null,
   "metadata": {},
   "outputs": [],
   "source": [
    "# Train SVM and Generate an Esri classifier definition file (.ecd)\n",
    "arcpy.ia.TrainSupportVectorMachineClassifier(\n",
    "    \"SanMarinoS2_60m\", \n",
    "    \"samples\", \n",
    "    r\"C:\\Users\\Adian\\Documents\\ArcGIS\\Projects\\AnalysisAndModelingFinal\\SanMarinoTrainedSVM_60m.ecd\", \n",
    "    '', \n",
    "    500, \n",
    "    \"COLOR;MEAN;STD;COUNT;COMPACTNESS;RECTANGULARITY\", \n",
    "    None\n",
    ")"
   ]
  },
  {
   "cell_type": "code",
   "execution_count": 41,
   "metadata": {},
   "outputs": [],
   "source": [
    "# Classify the Sentinel image using the Esri classifier definition file (.ecd)\n",
    "out_raster_dataset = arcpy.ia.ClassifyRaster(\n",
    "    \"SanMarinoS2_60m\",\n",
    "    r\"C:\\Users\\Adian\\Documents\\ArcGIS\\Projects\\AnalysisAndModelingFinal\\SanMarinoTrainedSVM_60m.ecd\",\n",
    "    ''\n",
    ");\n",
    "out_raster_dataset.save(\n",
    "    r\"C:\\Users\\Adian\\Documents\\ArcGIS\\Projects\\AnalysisAndModelingFinal\\LandCoverSanMarinoSVM_60m.crf\"\n",
    ")"
   ]
  },
  {
   "cell_type": "markdown",
   "metadata": {},
   "source": [
    "## RF"
   ]
  },
  {
   "cell_type": "code",
   "execution_count": 42,
   "metadata": {},
   "outputs": [
    {
     "data": {
      "text/html": [
       "<div class='gpresult'><h2>Messages</h2><div id='messages' data-messages='[\"Start Time: Thursday, July 13, 2023 6:35:25 PM\",\"train accuracy = 0.9488 \",\"variable importance = 0.0705 0.0432 0.0423 0.0429 0.0414 0.0412 0.0425 0.0397 0.0426 0.0546 0.0417 0.0496 0.0484 0.0480 0.0404 0.0439 0.0413 0.0443 0.0363 0.0363 0.0363 0.0363 0.0363 \",\"Succeeded at Thursday, July 13, 2023 6:35:26 PM (Elapsed Time: 1.82 seconds)\"]' data-show='true'><div id = 'default' /></div></div>"
      ],
      "text/plain": [
       "<geoprocessing server result object object at 0x000001F0A0D4B990>"
      ]
     },
     "execution_count": 42,
     "metadata": {},
     "output_type": "execute_result"
    }
   ],
   "source": [
    "# Train RF and Classify raster\n",
    "arcpy.stats.Forest(\n",
    "    \"PREDICT_RASTER\", \n",
    "    \"samples\", \n",
    "    \"Classcode\", \n",
    "    \"CATEGORICAL\", \n",
    "    None, \n",
    "    None, \n",
    "    r\"C:\\Users\\Adian\\Documents\\ArcGIS\\Projects\\AnalysisAndModelingFinal\\AnalysisAndModelingFinal.gdb\\SanMarinoS2_60m #\", \n",
    "    None, \n",
    "    None, \n",
    "    r\"C:\\Users\\Adian\\Documents\\ArcGIS\\Projects\\AnalysisAndModelingFinal\\rf60.crf\", \n",
    "    None, \n",
    "    None, \n",
    "    r\"C:\\Users\\Adian\\Documents\\ArcGIS\\Projects\\AnalysisAndModelingFinal\\AnalysisAndModelingFinal.gdb\\SanMarinoS2_60m C:\\Users\\Adian\\Documents\\ArcGIS\\Projects\\AnalysisAndModelingFinal\\AnalysisAndModelingFinal.gdb\\SanMarinoS2_60m\", r\"C:\\Users\\Adian\\Documents\\ArcGIS\\Projects\\AnalysisAndModelingFinal\\TrainedFeatures60.shp\", \n",
    "    r\"C:\\Users\\Adian\\Documents\\ArcGIS\\Projects\\AnalysisAndModelingFinal\\VariableImportance60.dbf\", \n",
    "    \"TRUE\", \n",
    "    100, \n",
    "    None, \n",
    "    None, \n",
    "    100, \n",
    "    None, \n",
    "    10, \n",
    "    r\"C:\\Users\\Adian\\Documents\\ArcGIS\\Projects\\AnalysisAndModelingFinal\\classificationPerformanceTable60.dbf\", \n",
    "    None, \n",
    "    \"FALSE\", \n",
    "    1, \n",
    "    \"FALSE\"\n",
    ")"
   ]
  },
  {
   "cell_type": "markdown",
   "metadata": {},
   "source": [
    "## Accuracy Assessment"
   ]
  },
  {
   "cell_type": "markdown",
   "metadata": {},
   "source": [
    "### SVM"
   ]
  },
  {
   "cell_type": "code",
   "execution_count": 45,
   "metadata": {},
   "outputs": [
    {
     "data": {
      "text/html": [
       "<div class='gpresult'><h2>Messages</h2><div id='messages' data-messages='[\"Start Time: Thursday, July 13, 2023 6:39:31 PM\",\"Succeeded at Thursday, July 13, 2023 6:39:31 PM (Elapsed Time: 0.10 seconds)\"]' data-show='true'><div id = 'default' /></div></div>"
      ],
      "text/plain": [
       "<geoprocessing server result object object at 0x000001F0A0D4BAB0>"
      ]
     },
     "execution_count": 45,
     "metadata": {},
     "output_type": "execute_result"
    }
   ],
   "source": [
    "# Create points for SVM\n",
    "arcpy.ia.CreateAccuracyAssessmentPoints(\n",
    "    \"LandCoverSanMarinoSVM_60m\", \n",
    "    r\"C:\\Users\\Adian\\Documents\\ArcGIS\\Projects\\AnalysisAndModelingFinal\\AccuracyAssessmentPointsSVMPrelim_60m.shp\", \n",
    "    \"CLASSIFIED\", \n",
    "    500, \n",
    "    \"STRATIFIED_RANDOM\",\n",
    "    None\n",
    ")"
   ]
  },
  {
   "cell_type": "code",
   "execution_count": 46,
   "metadata": {},
   "outputs": [
    {
     "data": {
      "text/html": [
       "<div class='gpresult'><h2>Messages</h2><div id='messages' data-messages='[\"Start Time: Thursday, July 13, 2023 6:39:51 PM\",\"WARNING 001789: Not all points could be updated.\",\"Succeeded at Thursday, July 13, 2023 6:39:51 PM (Elapsed Time: 0.10 seconds)\"]' data-show='true'><div id = 'default' /></div></div>"
      ],
      "text/plain": [
       "<geoprocessing server result object object at 0x000001F0A0D4BA50>"
      ]
     },
     "execution_count": 46,
     "metadata": {},
     "output_type": "execute_result"
    }
   ],
   "source": [
    "# Update points with ground truth identifiers\n",
    "arcpy.ia.UpdateAccuracyAssessmentPoints(\n",
    "    \"CORINE_Raster\", \n",
    "    \"AccuracyAssessmentPointsSVMPrelim_60m\", \n",
    "    r\"C:\\Users\\Adian\\Documents\\ArcGIS\\Projects\\AnalysisAndModelingFinal\\AccuracyAssessmentPointsSVM_60m.shp\", \n",
    "    \"GROUND_TRUTH\", \n",
    "    None, \n",
    "    None\n",
    ")"
   ]
  },
  {
   "cell_type": "code",
   "execution_count": 47,
   "metadata": {},
   "outputs": [
    {
     "name": "stdout",
     "output_type": "stream",
     "text": [
      "Attribute values updated successfully.\n"
     ]
    }
   ],
   "source": [
    "# Update ground truth identifiers with class values\n",
    "\n",
    "# Path to the workspace and the feature class\n",
    "workspace = r\"C:\\Users\\Adian\\Documents\\ArcGIS\\Projects\\AnalysisAndModelingFinal\"\n",
    "\n",
    "feature_class = \"AccuracyAssessmentPointsSVM_60m\"\n",
    "\n",
    "# Field name to be updated\n",
    "field_name = \"GrndTruth\"\n",
    "\n",
    "\n",
    "# Map values to match CLC\n",
    "value_mapping = {\n",
    "    1: 211,\n",
    "    2: 112,\n",
    "    3: 324,\n",
    "    4: 243,\n",
    "    5: 242,\n",
    "    6: 311,\n",
    "    7: 313,\n",
    "    8: 231,\n",
    "    9: 321,\n",
    "    10: 121,\n",
    "    11: 142\n",
    "}\n",
    "\n",
    "try:\n",
    "    arcpy.env.workspace = workspace\n",
    "\n",
    "    # Start an edit session\n",
    "    edit = arcpy.da.Editor(workspace)\n",
    "    edit.startEditing(False, True)\n",
    "    edit.startOperation()\n",
    "\n",
    "    # Update the attribute values\n",
    "    with arcpy.da.UpdateCursor(feature_class, field_name) as cursor:\n",
    "        for row in cursor:\n",
    "            old_value = row[0]\n",
    "            if old_value in value_mapping:\n",
    "                new_value = value_mapping[old_value]\n",
    "                row[0] = new_value\n",
    "                cursor.updateRow(row)\n",
    "\n",
    "    # Stop the edit session and save changes\n",
    "    edit.stopOperation()\n",
    "    edit.stopEditing(True)\n",
    "\n",
    "    print(\"Attribute values updated\")\n",
    "\n",
    "except Exception as e:\n",
    "    print(\"Error updating attribute values: \" + str(e))"
   ]
  },
  {
   "cell_type": "code",
   "execution_count": 48,
   "metadata": {},
   "outputs": [
    {
     "data": {
      "text/html": [
       "<div class='gpresult'><h2>Messages</h2><div id='messages' data-messages='[\"Start Time: Thursday, July 13, 2023 6:40:27 PM\",\"WARNING 001790: Not all points have valid class values.\",\"IoU = {[C_112]: 0.4087, [C_121]: 0.1875, [C_142]: 0.3000, [C_211]: 0.0995, [C_231]: 0.0000, [C_242]: 0.1333, [C_243]: 0.3386, [C_311]: 0.1667, [C_313]: 0.2500, [C_321]: 0.1111, [C_324]: 0.1507}\",\"Succeeded at Thursday, July 13, 2023 6:40:27 PM (Elapsed Time: 0.08 seconds)\"]' data-show='true'><div id = 'default' /></div></div>"
      ],
      "text/plain": [
       "<geoprocessing server result object object at 0x000001F0A002F4B0>"
      ]
     },
     "execution_count": 48,
     "metadata": {},
     "output_type": "execute_result"
    }
   ],
   "source": [
    "# Calculate confusion Matrix\n",
    "arcpy.ia.ComputeConfusionMatrix(\n",
    "    \"AccuracyAssessmentPointsSVM_60m\", \n",
    "    r\"C:\\Users\\Adian\\Documents\\ArcGIS\\Projects\\AnalysisAndModelingFinal\\AnalysisAndModelingFinal.gdb\\AccuracySVM_60m\"\n",
    ")"
   ]
  },
  {
   "cell_type": "markdown",
   "metadata": {},
   "source": [
    "### RF"
   ]
  },
  {
   "cell_type": "code",
   "execution_count": 1,
   "metadata": {},
   "outputs": [
    {
     "data": {
      "text/html": [
       "<div class='gpresult'><h2>Messages</h2><div id='messages' data-messages='[\"Start Time: Thursday, July 27, 2023 3:38:40 PM\",\"Succeeded at Thursday, July 27, 2023 3:38:40 PM (Elapsed Time: 0.28 seconds)\"]' data-show='true'><div id = 'default' /></div></div>"
      ],
      "text/plain": [
       "<geoprocessing server result object object at 0x000002BC3E945840>"
      ]
     },
     "execution_count": 1,
     "metadata": {},
     "output_type": "execute_result"
    }
   ],
   "source": [
    "# Create points for RF\n",
    "# RF classification layer must be 8 or 16 bpp\n",
    "arcpy.ia.CreateAccuracyAssessmentPoints(\n",
    "    \"rf60_16bit.crf\", \n",
    "    r\"C:\\Users\\Adian\\Documents\\ArcGIS\\Projects\\AnalysisAndModelingFinal\\AccuracyAssessmentPointsRFPrelim_60m.shp\", \n",
    "    \"CLASSIFIED\", \n",
    "    500, \n",
    "    \"STRATIFIED_RANDOM\", \n",
    "    None\n",
    ")"
   ]
  },
  {
   "cell_type": "code",
   "execution_count": 3,
   "metadata": {},
   "outputs": [
    {
     "name": "stdout",
     "output_type": "stream",
     "text": [
      "Attribute values updated successfully.\n"
     ]
    }
   ],
   "source": [
    "# Update classification with class values\n",
    "\n",
    "# Path to the workspace and the feature class\n",
    "workspace = r\"C:\\Users\\Adian\\Documents\\ArcGIS\\Projects\\AnalysisAndModelingFinal\"\n",
    "\n",
    "feature_class = \"AccuracyAssessmentPointsRFPrelim_60m.shp\"\n",
    "\n",
    "# Field name to be updated\n",
    "field_name = \"Classified\"\n",
    "\n",
    "\n",
    "# Map values to match CLC\n",
    "value_mapping = {\n",
    "    0: 112,\n",
    "    1: 121,\n",
    "    2: 142,\n",
    "    3: 211,\n",
    "    4: 231,\n",
    "    5: 242,\n",
    "    6: 243,\n",
    "    7: 311,\n",
    "    8: 313,\n",
    "    9: 321,\n",
    "    10: 324\n",
    "}\n",
    "\n",
    "try:\n",
    "    arcpy.env.workspace = workspace\n",
    "\n",
    "    # Start an edit session\n",
    "    edit = arcpy.da.Editor(workspace)\n",
    "    edit.startEditing(False, True)\n",
    "    edit.startOperation()\n",
    "\n",
    "    # Update the attribute values\n",
    "    with arcpy.da.UpdateCursor(feature_class, field_name) as cursor:\n",
    "        for row in cursor:\n",
    "            old_value = row[0]\n",
    "            if old_value in value_mapping:\n",
    "                new_value = value_mapping[old_value]\n",
    "                row[0] = new_value\n",
    "                cursor.updateRow(row)\n",
    "\n",
    "    # Stop the edit session and save changes\n",
    "    edit.stopOperation()\n",
    "    edit.stopEditing(True)\n",
    "\n",
    "    print(\"Attribute values updated\")\n",
    "\n",
    "except Exception as e:\n",
    "    print(\"Error updating attribute values: \" + str(e))"
   ]
  },
  {
   "cell_type": "code",
   "execution_count": 4,
   "metadata": {},
   "outputs": [
    {
     "data": {
      "text/html": [
       "<div class='gpresult'><h2>Messages</h2><div id='messages' data-messages='[\"Start Time: Thursday, July 27, 2023 3:40:35 PM\",\"Succeeded at Thursday, July 27, 2023 3:40:35 PM (Elapsed Time: 0.11 seconds)\"]' data-show='true'><div id = 'default' /></div></div>"
      ],
      "text/plain": [
       "<geoprocessing server result object object at 0x000002BC391AFC30>"
      ]
     },
     "execution_count": 4,
     "metadata": {},
     "output_type": "execute_result"
    }
   ],
   "source": [
    "# Update points with ground truth identifiers\n",
    "arcpy.ia.UpdateAccuracyAssessmentPoints(\n",
    "    \"CORINE_Raster\", \n",
    "    \"AccuracyAssessmentPointsRFPrelim_60m\", \n",
    "    r\"C:\\Users\\Adian\\Documents\\ArcGIS\\Projects\\AnalysisAndModelingFinal\\AccuracyAssessmentPointsRF_60m.shp\", \n",
    "    \"GROUND_TRUTH\", \n",
    "    None, \n",
    "    None\n",
    ")"
   ]
  },
  {
   "cell_type": "code",
   "execution_count": 5,
   "metadata": {},
   "outputs": [
    {
     "name": "stdout",
     "output_type": "stream",
     "text": [
      "Attribute values updated successfully.\n"
     ]
    }
   ],
   "source": [
    "# Update ground truth identifiers with class values\n",
    "\n",
    "# Path to the workspace and the feature class\n",
    "workspace = r\"C:\\Users\\Adian\\Documents\\ArcGIS\\Projects\\AnalysisAndModelingFinal\"\n",
    "\n",
    "feature_class = \"AccuracyAssessmentPointsRF_60m\"\n",
    "\n",
    "# Field name to be updated\n",
    "field_name = \"GrndTruth\"\n",
    "\n",
    "\n",
    "# Map values to match CLC\n",
    "value_mapping = {\n",
    "    1: 211,\n",
    "    2: 112,\n",
    "    3: 324,\n",
    "    4: 243,\n",
    "    5: 242,\n",
    "    6: 311,\n",
    "    7: 313,\n",
    "    8: 231,\n",
    "    9: 321,\n",
    "    10: 121,\n",
    "    11: 142\n",
    "}\n",
    "\n",
    "try:\n",
    "    arcpy.env.workspace = workspace\n",
    "\n",
    "    # Start an edit session\n",
    "    edit = arcpy.da.Editor(workspace)\n",
    "    edit.startEditing(False, True)\n",
    "    edit.startOperation()\n",
    "\n",
    "    # Update the attribute values\n",
    "    with arcpy.da.UpdateCursor(feature_class, field_name) as cursor:\n",
    "        for row in cursor:\n",
    "            old_value = row[0]\n",
    "            if old_value in value_mapping:\n",
    "                new_value = value_mapping[old_value]\n",
    "                row[0] = new_value\n",
    "                cursor.updateRow(row)\n",
    "\n",
    "    # Stop the edit session and save changes\n",
    "    edit.stopOperation()\n",
    "    edit.stopEditing(True)\n",
    "\n",
    "    print(\"Attribute values updated\")\n",
    "\n",
    "except Exception as e:\n",
    "    print(\"Error updating attribute values: \" + str(e))"
   ]
  },
  {
   "cell_type": "code",
   "execution_count": 6,
   "metadata": {
    "scrolled": true
   },
   "outputs": [
    {
     "data": {
      "text/html": [
       "<div class='gpresult'><h2>Messages</h2><div id='messages' data-messages='[\"Start Time: Thursday, July 27, 2023 3:40:50 PM\",\"IoU = {[C_112]: 0.3047, [C_121]: 0.1765, [C_142]: 0.0714, [C_211]: 0.0925, [C_231]: 0.1000, [C_242]: 0.0312, [C_243]: 0.3609, [C_311]: 0.1186, [C_313]: 0.0588, [C_321]: 0.3000, [C_324]: 0.0870}\",\"Succeeded at Thursday, July 27, 2023 3:40:50 PM (Elapsed Time: 0.26 seconds)\"]' data-show='true'><div id = 'default' /></div></div>"
      ],
      "text/plain": [
       "<geoprocessing server result object object at 0x000002BC3EAF2CF0>"
      ]
     },
     "execution_count": 6,
     "metadata": {},
     "output_type": "execute_result"
    }
   ],
   "source": [
    "# Calculate confusion Matrix\n",
    "arcpy.ia.ComputeConfusionMatrix(\n",
    "    \"AccuracyAssessmentPointsRF_60m\", \n",
    "    r\"C:\\Users\\Adian\\Documents\\ArcGIS\\Projects\\AnalysisAndModelingFinal\\AnalysisAndModelingFinal.gdb\\AccuracyRF_60m\"\n",
    ")"
   ]
  }
 ],
 "metadata": {
  "kernelspec": {
   "display_name": "ArcGISPro",
   "language": "Python",
   "name": "python3"
  },
  "language_info": {
   "file_extension": ".py",
   "name": "python",
   "version": "3"
  }
 },
 "nbformat": 4,
 "nbformat_minor": 2
}
